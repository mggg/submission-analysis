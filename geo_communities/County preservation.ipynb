{
 "cells": [
  {
   "cell_type": "code",
   "execution_count": null,
   "id": "9fe966dd-0aa8-4d02-8f2f-25ede44d69f7",
   "metadata": {},
   "outputs": [],
   "source": [
    "import pandas as pd\n",
    "import geopandas as gpd\n",
    "import networkx as nx\n",
    "from ast import literal_eval\n",
    "from collections import defaultdict"
   ]
  },
  {
   "cell_type": "code",
   "execution_count": null,
   "id": "0f4179f9-7711-4d86-a069-3b6b3802c1e9",
   "metadata": {},
   "outputs": [],
   "source": [
    "df = pd.read_csv('mi_all_subs_pseudo_cois.csv')"
   ]
  },
  {
   "cell_type": "code",
   "execution_count": null,
   "id": "91e2a329-7bd1-4486-9a8e-d8c5da7f0e2e",
   "metadata": {},
   "outputs": [],
   "source": [
    "precincts_df = gpd.read_file('MI')"
   ]
  },
  {
   "cell_type": "code",
   "execution_count": null,
   "id": "9bc301ab-d4f5-495a-8a77-94a94ce33260",
   "metadata": {},
   "outputs": [],
   "source": [
    "vtds_by_county = defaultdict(set)\n",
    "for row in precincts_df.itertuples():\n",
    "  vtds_by_county[getattr(row, 'CountyFips')].add(getattr(row, 'VTD2016_x'))"
   ]
  },
  {
   "cell_type": "code",
   "execution_count": null,
   "id": "d46423e1-4a1e-4c32-bc2d-fe0c05e16b68",
   "metadata": {},
   "outputs": [],
   "source": [
    "districtr_data = []\n",
    "for row in df['districtr_data']:\n",
    "  try:\n",
    "    districtr_data.append(literal_eval(row))\n",
    "  except ValueError:\n",
    "    pass"
   ]
  },
  {
   "cell_type": "code",
   "execution_count": null,
   "id": "be4fd386-bca1-4185-80d3-b4946027bd62",
   "metadata": {},
   "outputs": [],
   "source": [
    "for submission in districtr_data:\n",
    "  if 'assignment' not in submission['plan']:\n",
    "    continue\n",
    "  assignment = submission['plan']['assignment']\n",
    "  counties_to_districts = defaultdict(set)\n",
    "  districts_to_vtds = defaultdict(set)\n",
    "  for vtd, dist in assignment.items():\n",
    "    county = vtd[1:4]\n",
    "    if isinstance(dist, list):\n",
    "      assert len(dist) == 1, f'{vtd} {dist}'\n",
    "      dist = dist[0]\n",
    "    counties_to_districts[county].add(dist)\n",
    "    districts_to_vtds[dist].add(vtd[1:])\n",
    "    \n",
    "  whole_counties = set()\n",
    "  for county, districts in counties_to_districts.items():\n",
    "    if len(districts) == 1:\n",
    "      district = next(iter(districts))\n",
    "      if districts_to_vtds[district].issubset(vtds_by_county[county]):\n",
    "        whole_counties.add(county)\n",
    "  print(whole_counties)"
   ]
  },
  {
   "cell_type": "code",
   "execution_count": null,
   "id": "c2379804-9753-4898-9215-d93110abdbb3",
   "metadata": {},
   "outputs": [],
   "source": []
  }
 ],
 "metadata": {
  "kernelspec": {
   "display_name": "Python 3 (ipykernel)",
   "language": "python",
   "name": "python3"
  },
  "language_info": {
   "codemirror_mode": {
    "name": "ipython",
    "version": 3
   },
   "file_extension": ".py",
   "mimetype": "text/x-python",
   "name": "python",
   "nbconvert_exporter": "python",
   "pygments_lexer": "ipython3",
   "version": "3.9.6"
  }
 },
 "nbformat": 4,
 "nbformat_minor": 5
}

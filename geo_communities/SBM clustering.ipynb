{
 "cells": [
  {
   "cell_type": "code",
   "execution_count": null,
   "id": "9fe966dd-0aa8-4d02-8f2f-25ede44d69f7",
   "metadata": {},
   "outputs": [],
   "source": [
    "%config InlineBackend.figure_formats = ['svg']\n",
    "import maup\n",
    "import numpy as np\n",
    "import pandas as pd\n",
    "import geopandas as gpd\n",
    "import matplotlib.pyplot as plt\n",
    "import graph_tool.all as gt\n",
    "from ast import literal_eval\n",
    "from collections import defaultdict\n",
    "from gerrychain import Graph"
   ]
  },
  {
   "cell_type": "code",
   "execution_count": null,
   "id": "90b48cd8-739c-4688-96ab-8e1813a9f564",
   "metadata": {},
   "outputs": [],
   "source": [
    "graph = Graph.from_json('michigan_dualgraph.json')"
   ]
  },
  {
   "cell_type": "code",
   "execution_count": null,
   "id": "29e02ee4-e33a-4991-a32f-e4d2d7c696d7",
   "metadata": {},
   "outputs": [],
   "source": [
    "submissions_df = pd.read_csv('../mi_all_subs_pseudo_cois.csv')\n",
    "submissions_df = submissions_df[submissions_df['type'] == 'coi']"
   ]
  },
  {
   "cell_type": "code",
   "execution_count": null,
   "id": "67b59ebd-b72b-4ffa-98b6-808348feed14",
   "metadata": {},
   "outputs": [],
   "source": [
    "bg_gdf = gpd.read_file('2010_Block_Groups_(v17a)')\n",
    "bg_gdf['id'] = '26' + bg_gdf['LINK']\n",
    "bg_gdf = bg_gdf.set_index('id')"
   ]
  },
  {
   "cell_type": "code",
   "execution_count": null,
   "id": "f3e3c7bc-0911-4555-b1d8-8987f4f0ffb2",
   "metadata": {},
   "outputs": [],
   "source": [
    "juris_gdf = gpd.read_file('Minor_Civil_Divisions_(Cities_%26_Townships)_').set_index('FIPSCODE')"
   ]
  },
  {
   "cell_type": "code",
   "execution_count": null,
   "id": "520a4066-7de1-4c74-b19e-0ffaeb63e77b",
   "metadata": {},
   "outputs": [],
   "source": [
    "import warnings; warnings.filterwarnings('ignore', 'GeoSeries.isna', UserWarning)\n",
    "bg_to_juris = dict(maup.assign(bg_gdf, juris_gdf))"
   ]
  },
  {
   "cell_type": "code",
   "execution_count": null,
   "id": "717efda5-3924-4c8a-b2d2-b9f3d7a4eda3",
   "metadata": {},
   "outputs": [],
   "source": [
    "bg_to_county = {bg: bg[:5] for bg in bg_to_juris}"
   ]
  },
  {
   "cell_type": "code",
   "execution_count": null,
   "id": "9bc301ab-d4f5-495a-8a77-94a94ce33260",
   "metadata": {},
   "outputs": [],
   "source": [
    "vtd_to_juris = {\n",
    "  graph.nodes[node]['VTD']: graph.nodes[node]['Jurisdicti']\n",
    "  for node in graph.nodes\n",
    "}"
   ]
  },
  {
   "cell_type": "code",
   "execution_count": null,
   "id": "80068ffb-3b93-4ed1-a336-1237ce5d4b1d",
   "metadata": {},
   "outputs": [],
   "source": [
    "vtd_to_county = {\n",
    "  graph.nodes[node]['VTD']: str(graph.nodes[node]['county_fip'])\n",
    "  for node in graph.nodes\n",
    "}"
   ]
  },
  {
   "cell_type": "code",
   "execution_count": null,
   "id": "d46423e1-4a1e-4c32-bc2d-fe0c05e16b68",
   "metadata": {},
   "outputs": [],
   "source": [
    "districtr_data = []\n",
    "for row in submissions_df['districtr_data']:\n",
    "  try:\n",
    "    parsed = literal_eval(row)\n",
    "  except ValueError:\n",
    "    pass\n",
    "  if 'assignment' in parsed['plan'] and parsed['plan']['assignment']:\n",
    "    districtr_data.append(parsed)"
   ]
  },
  {
   "cell_type": "code",
   "execution_count": null,
   "id": "d00bf644-e415-4ae5-80d0-d7b34a2a23ac",
   "metadata": {},
   "outputs": [],
   "source": [
    "def whole(small_to_dist, small_to_large):\n",
    "  \"\"\"Given an assignment that maps small units (e.g. VTDs) to district/COI labels\n",
    "  and a map between from small units to large units (e.g. jurisdictions/MCDs),\n",
    "  finds all large units wholly contained in a single district.\"\"\"\n",
    "  smalls_in_large = defaultdict(set)\n",
    "  for small, large in small_to_large.items():\n",
    "    smalls_in_large[large].add(small)\n",
    "  \n",
    "  large_districts = defaultdict(set)\n",
    "  district_smalls = defaultdict(set)\n",
    "\n",
    "  for small, dist in small_to_dist.items():\n",
    "    large = small_to_large[small]\n",
    "    if isinstance(dist, list):\n",
    "      all_dists = dist\n",
    "    else:\n",
    "      all_dists = [dist]\n",
    "    for d in all_dists:\n",
    "      large_districts[large].add(d)\n",
    "      district_smalls[d].add(small)\n",
    "  \n",
    "  whole_larges = set()\n",
    "  for large, districts in large_districts.items():\n",
    "    for district in districts:\n",
    "      if smalls_in_large[large].issubset(district_smalls[district]):\n",
    "        whole_larges.add(large)\n",
    "  return whole_larges"
   ]
  },
  {
   "cell_type": "code",
   "execution_count": null,
   "id": "be4fd386-bca1-4185-80d3-b4946027bd62",
   "metadata": {},
   "outputs": [],
   "source": [
    "whole_juris = []\n",
    "for submission in districtr_data:\n",
    "  if 'assignment' not in submission['plan']:\n",
    "    continue\n",
    "  assignment = submission['plan']['assignment']\n",
    "  if not assignment:\n",
    "    continue\n",
    "  first_key = next(iter(assignment))\n",
    "  if first_key in vtd_to_juris:\n",
    "    whole_juris.append(whole(assignment, vtd_to_juris))\n",
    "  else:\n",
    "    whole_juris.append(whole(assignment, bg_to_juris))"
   ]
  },
  {
   "cell_type": "code",
   "execution_count": null,
   "id": "33b3c07b-74d4-43f8-bb60-1d126d746380",
   "metadata": {},
   "outputs": [],
   "source": [
    "whole_county = []\n",
    "for submission in districtr_data:\n",
    "  if 'assignment' not in submission['plan']:\n",
    "    continue\n",
    "  assignment = submission['plan']['assignment']\n",
    "  if not assignment:\n",
    "    continue\n",
    "  first_key = next(iter(assignment))\n",
    "  if first_key in vtd_to_county:\n",
    "    whole_county.append(whole(assignment, vtd_to_county))\n",
    "  else:\n",
    "    whole_county.append(whole(assignment, bg_to_county))"
   ]
  },
  {
   "cell_type": "code",
   "execution_count": null,
   "id": "433d2244-98e6-46c3-ae61-2e055c943ce0",
   "metadata": {},
   "outputs": [],
   "source": [
    "def submission_whole_unit_bipartite_graph(whole_units):\n",
    "  \"\"\"Constructs a bipartite graph between submissions and whole units.\"\"\"\n",
    "  graph = gt.Graph(directed=False)\n",
    "  submission_vertices = [graph.add_vertex() for _ in whole_units]\n",
    "  unique_units = list(set.union(*whole_units))\n",
    "  unit_vertices = {unit: graph.add_vertex() for unit in unique_units}\n",
    "  label_prop = graph.vp['label'] = graph.new_vertex_property('string')\n",
    "  for vertex, label in zip(unit_vertices, unique_units):\n",
    "    label_prop[vertex] = label\n",
    "  for submission_vertex, units in zip(submission_vertices, whole_units):\n",
    "    for unit in units:\n",
    "      graph.add_edge(submission_vertex, unit_vertices[unit])\n",
    "  return graph, unit_vertices"
   ]
  },
  {
   "cell_type": "code",
   "execution_count": null,
   "id": "37bb904e-8cdb-47a1-8d0d-884442447a4a",
   "metadata": {},
   "outputs": [],
   "source": [
    "juris_submission_graph, juris_vertices = submission_whole_unit_bipartite_graph(whole_juris)\n",
    "county_submission_graph, county_vertices = submission_whole_unit_bipartite_graph(whole_county)"
   ]
  },
  {
   "cell_type": "code",
   "execution_count": null,
   "id": "23f9bda5-1e7e-44a7-9dea-d3adb380bb4a",
   "metadata": {},
   "outputs": [],
   "source": [
    "state = gt.minimize_nested_blockmodel_dl(juris_submission_graph)\n",
    "for _ in range(100):\n",
    "  state.multiflip_mcmc_sweep(niter=10, beta=np.inf)"
   ]
  },
  {
   "cell_type": "code",
   "execution_count": null,
   "id": "8888e048-b205-46f9-99be-9371844dcfbe",
   "metadata": {},
   "outputs": [],
   "source": [
    "state.draw(layout='bipartite') #, output='mi_juris_coi_bipartite.png')"
   ]
  },
  {
   "cell_type": "code",
   "execution_count": null,
   "id": "86fa9d80-96a5-4881-98ad-1b080a389a35",
   "metadata": {},
   "outputs": [],
   "source": [
    "levels = state.get_levels()\n",
    "for l, s in enumerate(levels[:5]):\n",
    "  labels = s.get_blocks()\n",
    "  offset = len(whole_juris)\n",
    "  unit_to_label = {\n",
    "    unit: labels[vertex]\n",
    "    for unit, vertex in juris_vertices.items()\n",
    "  }\n",
    "  fig, ax = plt.subplots(figsize=(8, 10))\n",
    "  ax.axis('off')\n",
    "  juris_gdf[f'level{l}'] = juris_gdf.index.map(unit_to_label)\n",
    "  juris_gdf.plot(column=f'level{l}', ax=ax, cmap='tab20')\n",
    "  if s.get_N() == 1:\n",
    "      break"
   ]
  },
  {
   "cell_type": "code",
   "execution_count": null,
   "id": "5ea13ef4-e63d-4fcb-bd1d-a85eb7abcd7f",
   "metadata": {},
   "outputs": [],
   "source": [
    "levels = state.get_levels()\n",
    "for l, s in enumerate(levels[:5]):\n",
    "  labels = s.get_blocks()\n",
    "  offset = len(whole_juris)\n",
    "  unit_to_label = {\n",
    "    unit: labels[vertex]\n",
    "    for unit, vertex in juris_vertices.items()\n",
    "  }\n",
    "  fig, ax = plt.subplots(figsize=(8, 10))\n",
    "  ax.axis('off')\n",
    "  juris_gdf[f'level{l}'] = juris_gdf.index.map(unit_to_label)\n",
    "  juris_gdf.plot(column=f'level{l}', ax=ax, cmap='tab20')\n",
    "  if s.get_N() == 1:\n",
    "      break"
   ]
  }
 ],
 "metadata": {
  "kernelspec": {
   "display_name": "Python 3 (ipykernel)",
   "language": "python",
   "name": "python3"
  },
  "language_info": {
   "codemirror_mode": {
    "name": "ipython",
    "version": 3
   },
   "file_extension": ".py",
   "mimetype": "text/x-python",
   "name": "python",
   "nbconvert_exporter": "python",
   "pygments_lexer": "ipython3",
   "version": "3.9.6"
  }
 },
 "nbformat": 4,
 "nbformat_minor": 5
}

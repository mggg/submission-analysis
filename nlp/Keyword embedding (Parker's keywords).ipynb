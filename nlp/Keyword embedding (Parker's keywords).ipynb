{
 "cells": [
  {
   "cell_type": "code",
   "execution_count": null,
   "id": "018f41ce-878f-4b96-9855-53509825eb6e",
   "metadata": {},
   "outputs": [],
   "source": [
    "%config InlineBackend.figure_formats = ['svg']\n",
    "import numpy as np\n",
    "import matplotlib.pyplot as plt\n",
    "import spacy\n",
    "import pandas as pd\n",
    "import matplotlib.cm as cm\n",
    "from tqdm import tqdm\n",
    "from sklearn.cluster import KMeans\n",
    "from sklearn.manifold import MDS, TSNE\n",
    "from sklearn.decomposition import PCA\n",
    "from collections import defaultdict"
   ]
  },
  {
   "cell_type": "code",
   "execution_count": null,
   "id": "8067684b-9ca8-4801-a2ca-c21adc09f00e",
   "metadata": {},
   "outputs": [],
   "source": [
    "chunks_file = '../keyword_analysis/wi_mi_mo_oh_union_accepted.csv'\n",
    "model = 'en_core_web_lg'"
   ]
  },
  {
   "cell_type": "code",
   "execution_count": null,
   "id": "c904a714-f0d7-48bd-be77-bc676ddfacb6",
   "metadata": {},
   "outputs": [],
   "source": [
    "nlp = spacy.load(model)"
   ]
  },
  {
   "cell_type": "code",
   "execution_count": null,
   "id": "1afd4e70-a52c-41f4-a4fb-b3afaa8b5bb0",
   "metadata": {},
   "outputs": [],
   "source": [
    "df = pd.read_csv(chunks_file)"
   ]
  },
  {
   "cell_type": "code",
   "execution_count": null,
   "id": "13405d32-892c-4b89-aadf-18be621a1ef5",
   "metadata": {},
   "outputs": [],
   "source": [
    "filter_chunks = ['health education institution', 'state medium market', 'class neighborhood']  # these should have been filtered out earlier"
   ]
  },
  {
   "cell_type": "code",
   "execution_count": null,
   "id": "bc112564-12f4-46c5-ac79-f618e35acb77",
   "metadata": {},
   "outputs": [],
   "source": [
    "all_docs = [nlp(doc) for doc in df['chunk']]\n",
    "valid_docs = [doc for doc in all_docs if doc.vector_norm and doc.text not in filter_chunks]\n",
    "n = 150 #len(valid_docs)"
   ]
  },
  {
   "cell_type": "code",
   "execution_count": null,
   "id": "16b63e47-d057-4790-ae2a-bf269d3777f8",
   "metadata": {},
   "outputs": [],
   "source": [
    "dists = np.zeros((n, n))"
   ]
  },
  {
   "cell_type": "code",
   "execution_count": null,
   "id": "023e05c5-33ba-44bb-a475-cbc7176bd25c",
   "metadata": {},
   "outputs": [],
   "source": [
    "for ii, outer_doc in enumerate(valid_docs[:n]):\n",
    "  for jj, inner_doc in enumerate(valid_docs[:n]):\n",
    "    dists[ii, jj] = np.arccos(inner_doc.similarity(outer_doc))"
   ]
  },
  {
   "cell_type": "code",
   "execution_count": null,
   "id": "c7694eb2-e757-49c7-9983-500a37c8095a",
   "metadata": {},
   "outputs": [],
   "source": [
    "X_pca = PCA(n_components=20).fit_transform(dists)\n",
    "#X = TSNE().fit_transform(X_pca)\n",
    "X = TSNE().fit_transform(dists)"
   ]
  },
  {
   "cell_type": "code",
   "execution_count": null,
   "id": "92ac9a76-e9b2-4d65-9f30-cac83cddab08",
   "metadata": {},
   "outputs": [],
   "source": [
    "cmap = cm.get_cmap(name='tab20')\n",
    "labels = KMeans(n_clusters=14, random_state=0).fit(X_pca).labels_"
   ]
  },
  {
   "cell_type": "code",
   "execution_count": null,
   "id": "acab60d6-1ac8-42a1-81f8-9c957adde8f1",
   "metadata": {},
   "outputs": [],
   "source": [
    "chunks_by_label = defaultdict(list)\n",
    "for doc, label in zip(valid_docs, labels):\n",
    "  chunks_by_label[label].append(doc.text)"
   ]
  },
  {
   "cell_type": "code",
   "execution_count": null,
   "id": "d50c52c5-15cb-4848-9bf7-eed084d8cec1",
   "metadata": {},
   "outputs": [],
   "source": [
    "for _, chunks in chunks_by_label.items():\n",
    "  print('*', ', '.join(chunks))"
   ]
  },
  {
   "cell_type": "code",
   "execution_count": null,
   "id": "fa4b3489-ec6f-481f-80f4-f1d25d76828e",
   "metadata": {},
   "outputs": [],
   "source": [
    "fig, ax = plt.subplots(figsize=(23, 23))\n",
    "ax.scatter(X[:, 0], X[:, 1], color=cmap(labels))\n",
    "\n",
    "for x, y, doc in zip(X[:, 0], X[:, 1], valid_docs):\n",
    "   ax.annotate(\n",
    "     doc.text,\n",
    "     (x, y),\n",
    "     textcoords=\"offset points\",\n",
    "     xytext=(0,10),\n",
    "     ha='center'\n",
    "   )"
   ]
  },
  {
   "cell_type": "code",
   "execution_count": null,
   "id": "0c9b158a-d52b-487c-9252-867afb4f3fac",
   "metadata": {},
   "outputs": [],
   "source": [
    "fig, ax = plt.subplots()\n",
    "ax.scatter(X[:, 0], X[:, 1])\n",
    "plt.show()"
   ]
  },
  {
   "cell_type": "code",
   "execution_count": null,
   "id": "6e6dac1c-893b-4b65-91af-3f12595ce16b",
   "metadata": {},
   "outputs": [],
   "source": [
    "fig, ax = plt.subplots()\n",
    "\n",
    "ax.scatter(X[:, 0], X[:, 1])\n",
    "plt.show()"
   ]
  },
  {
   "cell_type": "code",
   "execution_count": null,
   "id": "49ec80f7-0192-49a6-b500-775fe9896819",
   "metadata": {},
   "outputs": [],
   "source": [
    "plt.scatter(X[:, 0], X[:, 1], color=cmap(labels))\n",
    "plt.show()"
   ]
  }
 ],
 "metadata": {
  "kernelspec": {
   "display_name": "Python 3 (ipykernel)",
   "language": "python",
   "name": "python3"
  },
  "language_info": {
   "codemirror_mode": {
    "name": "ipython",
    "version": 3
   },
   "file_extension": ".py",
   "mimetype": "text/x-python",
   "name": "python",
   "nbconvert_exporter": "python",
   "pygments_lexer": "ipython3",
   "version": "3.9.6"
  }
 },
 "nbformat": 4,
 "nbformat_minor": 5
}

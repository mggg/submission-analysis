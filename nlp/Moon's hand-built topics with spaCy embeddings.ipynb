{
 "cells": [
  {
   "cell_type": "code",
   "execution_count": null,
   "id": "be2495ed-399f-4bbe-9ea8-2ed455d66401",
   "metadata": {},
   "outputs": [],
   "source": [
    "%config InlineBackend.figure_formats = ['svg']\n",
    "import json\n",
    "import numpy as np\n",
    "import matplotlib.pyplot as plt\n",
    "import spacy\n",
    "import pandas as pd\n",
    "import matplotlib.cm as cm\n",
    "from tqdm import tqdm\n",
    "from sklearn.cluster import KMeans\n",
    "from sklearn.manifold import MDS, TSNE\n",
    "from sklearn.decomposition import PCA\n",
    "from collections import defaultdict\n",
    "from random import shuffle, sample\n",
    "from matplotlib.patches import Patch"
   ]
  },
  {
   "cell_type": "code",
   "execution_count": null,
   "id": "93cf63b9-3f10-480c-9ef6-a86560dbf308",
   "metadata": {},
   "outputs": [],
   "source": [
    "labels_file = 'labels.json'\n",
    "model = 'en_core_web_lg'\n",
    "corpus = ('../OHCumulativeAug10.csv', '../MOCumulativeAug10.csv', '../WICumulativeAug10.csv', '../mi_all_subs_pseudo_cois.csv')"
   ]
  },
  {
   "cell_type": "code",
   "execution_count": null,
   "id": "011a9907-31dd-4603-87ea-8de312c27aa2",
   "metadata": {},
   "outputs": [],
   "source": [
    "nlp = spacy.load(model)"
   ]
  },
  {
   "cell_type": "code",
   "execution_count": null,
   "id": "b61838d8-ad0a-479c-8210-2b2109a2587d",
   "metadata": {},
   "outputs": [],
   "source": [
    "labels = json.load(open(labels_file))\n",
    "del labels['Personal-unusable-incoherent']\n",
    "del labels['Named neighborhood']"
   ]
  },
  {
   "cell_type": "code",
   "execution_count": null,
   "id": "beca19ba-fa7c-42ab-8087-64c9844c94dd",
   "metadata": {},
   "outputs": [],
   "source": [
    "cat_indices = {cat: idx for idx, cat in enumerate(labels)}"
   ]
  },
  {
   "cell_type": "code",
   "execution_count": null,
   "id": "e3ed06c2-5da0-44a1-9006-517e28fcd10a",
   "metadata": {},
   "outputs": [],
   "source": [
    "n_per_cat = 12"
   ]
  },
  {
   "cell_type": "code",
   "execution_count": null,
   "id": "97dcfb29-4780-4f2c-a0bc-4ff84755d410",
   "metadata": {},
   "outputs": [],
   "source": [
    "label_docs = defaultdict(list)\n",
    "docs_with_cats = []\n",
    "seen = set()\n",
    "\n",
    "for cat, keywords in labels.items():\n",
    "  for keyword in sample(keywords, min(n_per_cat, len(keywords))) + [cat]:\n",
    "    normalized_keyword = keyword.lower().strip()\n",
    "    if normalized_keyword not in seen:\n",
    "      doc = nlp(normalized_keyword)\n",
    "      if doc.vector_norm:\n",
    "        label_docs[cat].append((doc, cat))\n",
    "    seen.add(normalized_keyword)\n",
    "  docs_with_cats += label_docs[cat]\n",
    "docs = [dc[0] for dc in docs_with_cats]\n",
    "doc_cats = [dc[1] for dc in docs_with_cats]\n",
    "n = len(docs)"
   ]
  },
  {
   "cell_type": "code",
   "execution_count": null,
   "id": "8f9fb8e7-43de-4f59-975f-da8649bb8c58",
   "metadata": {},
   "outputs": [],
   "source": [
    "n"
   ]
  },
  {
   "cell_type": "code",
   "execution_count": null,
   "id": "53c83665-9c92-445e-af66-72aa513a38fd",
   "metadata": {},
   "outputs": [],
   "source": [
    "dists = np.zeros((n, n))\n",
    "for ii, outer_doc in enumerate(docs[:n]):\n",
    "  for jj, inner_doc in enumerate(docs[:n]):\n",
    "    dists[ii, jj] = np.arccos(inner_doc.similarity(outer_doc))\n",
    "dists[np.isnan(dists)] = 1\n",
    "X_pca = PCA(n_components=20).fit_transform(dists)\n",
    "X = TSNE().fit_transform(X_pca)"
   ]
  },
  {
   "cell_type": "code",
   "execution_count": null,
   "id": "6c91a68a-441a-47fc-aa60-287fa8328f00",
   "metadata": {},
   "outputs": [],
   "source": [
    "fig, ax = plt.subplots(figsize=(50, 35))\n",
    "cmap = cm.get_cmap('jet', len(labels))\n",
    "ax.scatter(X[:, 0], X[:, 1], color=cmap([cat_indices[c] for c in doc_cats]))\n",
    "legend = [Patch(facecolor=cmap(idx), label=c) for c, idx in cat_indices.items()]\n",
    "  \n",
    "for x, y, doc in zip(X[:, 0], X[:, 1], docs):\n",
    "   ax.annotate(\n",
    "     doc.text,\n",
    "     (x, y),\n",
    "     textcoords=\"offset points\",\n",
    "     xytext=(0,10),\n",
    "     ha='center'\n",
    "   )\n",
    "ax.legend(handles=legend, loc='upper left')\n",
    "ax.axis('off')\n",
    "plt.savefig('moon_keywords_moon_clusters_top_12_per_cluster_run_3.pdf', bbox_inches='tight')\n",
    "plt.show()"
   ]
  },
  {
   "cell_type": "code",
   "execution_count": null,
   "id": "c4dfa23a-07d8-4fdd-91ae-853e1c9ded8c",
   "metadata": {},
   "outputs": [],
   "source": [
    "n_clusters = 20\n",
    "labels = KMeans(n_clusters=n_clusters).fit(X_pca).labels_\n",
    "cmap = cm.get_cmap('jet', n_clusters)\n",
    "fig, ax = plt.subplots(figsize=(50, 35))\n",
    "ax.scatter(X[:, 0], X[:, 1], color=cmap(labels))\n",
    "  \n",
    "for x, y, doc in zip(X[:, 0], X[:, 1], docs):\n",
    "   ax.annotate(\n",
    "     doc.text,\n",
    "     (x, y),\n",
    "     textcoords=\"offset points\",\n",
    "     xytext=(0,10),\n",
    "     ha='center'\n",
    "   )\n",
    "ax.axis('off')\n",
    "plt.savefig(f'moon_keywords_kmeans{n_clusters}_clusters_run_5.pdf', bbox_inches='tight')\n",
    "plt.show()"
   ]
  }
 ],
 "metadata": {
  "kernelspec": {
   "display_name": "Python 3 (ipykernel)",
   "language": "python",
   "name": "python3"
  },
  "language_info": {
   "codemirror_mode": {
    "name": "ipython",
    "version": 3
   },
   "file_extension": ".py",
   "mimetype": "text/x-python",
   "name": "python",
   "nbconvert_exporter": "python",
   "pygments_lexer": "ipython3",
   "version": "3.9.6"
  }
 },
 "nbformat": 4,
 "nbformat_minor": 5
}

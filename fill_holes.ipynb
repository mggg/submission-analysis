{
 "cells": [
  {
   "cell_type": "code",
   "execution_count": null,
   "id": "0dbe5dd3",
   "metadata": {},
   "outputs": [],
   "source": [
    "from gerrychain import Graph, Partition, GeographicPartition, Election, MarkovChain, constraints, accept\n",
    "from gerrychain.updaters import Tally\n",
    "from gerrychain.proposals import recom\n",
    "from functools import partial\n",
    "from tqdm import tqdm\n",
    "import matplotlib.pyplot as plt\n",
    "import seaborn as sns\n",
    "import random\n",
    "import numpy as np\n",
    "import geopandas as gpd\n",
    "import pandas\n",
    "from gerrychain.metrics import polsby_popper\n",
    "import networkx as nx\n",
    "import math\n",
    "import json\n",
    "import maup\n",
    "from itertools import groupby"
   ]
  },
  {
   "cell_type": "code",
   "execution_count": null,
   "id": "e445f694",
   "metadata": {},
   "outputs": [],
   "source": [
    "# adapted from existing from_districtr_file function in GerryChain\n",
    "def from_districtr_file(cls, graph, districtr_file, updaters=None):\n",
    "        \"\"\"Create a Partition from a districting plan created with `Districtr`_,\n",
    "        a free and open-source web app created by MGGG for drawing districts.\n",
    "\n",
    "        The provided ``graph`` should be created from the same shapefile as the\n",
    "        Districtr module used to draw the districting plan. These shapefiles may\n",
    "        be found in a repository in the `mggg-states`_ GitHub organization, or by\n",
    "        request from MGGG.\n",
    "\n",
    "        .. _`Districtr`: https://mggg.org/Districtr\n",
    "        .. _`mggg-states`: https://github.com/mggg-states\n",
    "\n",
    "        :param graph: :class:`~gerrychain.Graph`\n",
    "        :param districtr_file: the path to the ``.json`` file exported from Districtr\n",
    "        :param updaters: dictionary of updaters\n",
    "        \"\"\"\n",
    "        with open(districtr_file) as f:\n",
    "            districtr_plan = json.load(f)\n",
    "\n",
    "        id_column_key = districtr_plan[\"idColumn\"][\"key\"]\n",
    "        districtr_assignment = districtr_plan[\"assignment\"]\n",
    "        try:\n",
    "            node_to_id = {node: str(graph.nodes[node][id_column_key]) for node in graph}\n",
    "        except KeyError:\n",
    "            raise TypeError(\n",
    "                \"The provided graph is missing the {} column, which is \"\n",
    "                \"needed to match the Districtr assignment to the nodes of the graph.\"\n",
    "            )\n",
    "\n",
    "        assignment = {}\n",
    "        dist_populations = {}\n",
    "        bad_nodes = {} #maps nodes without assignments to adjacent nodes with multiplicity\n",
    "        for node in graph:\n",
    "            if node_to_id[node] not in districtr_assignment.keys():\n",
    "                bad_nodes[node] = []\n",
    "                for node2 in graph:\n",
    "                    if (node, node2) in graph.edges or (node2, node) in graph.edges:\n",
    "                        bad_nodes[node].append(node2)\n",
    "            else:\n",
    "                assignment[node] = districtr_assignment[node_to_id[node]][0]\n",
    "                if districtr_assignment[node_to_id[node]][0] not in dist_populations.keys():\n",
    "                    dist_populations[districtr_assignment[node_to_id[node]][0]] = 0\n",
    "                dist_populations[districtr_assignment[node_to_id[node]][0]] += graph.nodes[node]['TOTPOP']\n",
    "        \n",
    "        # assigns districts to nodes without assignments\n",
    "        while len(bad_nodes) > 0:\n",
    "            to_pop = []\n",
    "            for node in bad_nodes.keys():\n",
    "                possible_districts = []\n",
    "                for node2 in bad_nodes[node]:\n",
    "                    if node2 in assignment.keys():\n",
    "                        possible_districts.append(assignment[node2])\n",
    "                if len(possible_districts) > 0: \n",
    "                    # assign a district to this node\n",
    "                    # find the district that has the lower population or if tied, the more compact one\n",
    "                    district = possible_districts[0]\n",
    "                    for dist in possible_districts:\n",
    "                        if dist_populations[dist] < dist_populations[district]:\n",
    "                            district = dist\n",
    "                    assignment[node] = district\n",
    "                    # update populations\n",
    "                    dist_populations[district] += graph.nodes[node]['TOTPOP']\n",
    "                    # remove this node from bad_nodes\n",
    "                    to_pop.append(node)\n",
    "            for node in to_pop:\n",
    "                bad_nodes.pop(node)                    \n",
    "                \n",
    "        return cls(graph, assignment, updaters)"
   ]
  },
  {
   "cell_type": "code",
   "execution_count": null,
   "id": "eba2931d",
   "metadata": {},
   "outputs": [],
   "source": [
    "graph = Graph.from_file(\"../states/MI/MI.shp\")"
   ]
  },
  {
   "cell_type": "code",
   "execution_count": null,
   "id": "9f84bc88",
   "metadata": {},
   "outputs": [],
   "source": [
    "# good one; no holes\n",
    "# plans downloaded from https://www.michigan-mapping.org/#gallery\n",
    "partition1 = from_districtr_file(GeographicPartition, graph, districtr_file=\"districtr-plan-d9abbad0.json\", updaters=None)"
   ]
  },
  {
   "cell_type": "code",
   "execution_count": null,
   "id": "d06c652e",
   "metadata": {},
   "outputs": [],
   "source": [
    "partition1.plot(cmap='tab20')"
   ]
  },
  {
   "cell_type": "code",
   "execution_count": null,
   "id": "53f526dd",
   "metadata": {},
   "outputs": [],
   "source": [
    "# bad one; holes\n",
    "partition2 = from_districtr_file(GeographicPartition, graph, districtr_file=\"districtr-plan-a36af749.json\", updaters=None)\n",
    "partition2.plot(cmap='tab20')"
   ]
  },
  {
   "cell_type": "code",
   "execution_count": null,
   "id": "590a329e",
   "metadata": {},
   "outputs": [],
   "source": []
  },
  {
   "cell_type": "code",
   "execution_count": null,
   "id": "cf381dc9",
   "metadata": {},
   "outputs": [],
   "source": []
  },
  {
   "cell_type": "code",
   "execution_count": null,
   "id": "72b1caf7",
   "metadata": {},
   "outputs": [],
   "source": []
  },
  {
   "cell_type": "code",
   "execution_count": null,
   "id": "b7ed36fe",
   "metadata": {},
   "outputs": [],
   "source": []
  },
  {
   "cell_type": "code",
   "execution_count": null,
   "id": "d39e65a8",
   "metadata": {},
   "outputs": [],
   "source": []
  }
 ],
 "metadata": {
  "kernelspec": {
   "display_name": "Python 3",
   "language": "python",
   "name": "python3"
  },
  "language_info": {
   "codemirror_mode": {
    "name": "ipython",
    "version": 3
   },
   "file_extension": ".py",
   "mimetype": "text/x-python",
   "name": "python",
   "nbconvert_exporter": "python",
   "pygments_lexer": "ipython3",
   "version": "3.7.10"
  }
 },
 "nbformat": 4,
 "nbformat_minor": 5
}

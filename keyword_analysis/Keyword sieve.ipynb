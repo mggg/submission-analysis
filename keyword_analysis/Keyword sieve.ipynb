{
 "cells": [
  {
   "cell_type": "code",
   "execution_count": 13,
   "id": "0a59ac3c-6d3b-43ef-a684-4e5fe231f344",
   "metadata": {},
   "outputs": [],
   "source": [
    "import pandas as pd\n",
    "from collections import Counter"
   ]
  },
  {
   "cell_type": "code",
   "execution_count": 14,
   "id": "67d3efe2-d2da-45b7-8e12-cf97991c2902",
   "metadata": {},
   "outputs": [],
   "source": [
    "state_code = 'mo'"
   ]
  },
  {
   "cell_type": "code",
   "execution_count": 15,
   "id": "5b4c04e3-d61f-4656-a0ff-7cfeb8e2f9fb",
   "metadata": {},
   "outputs": [],
   "source": [
    "df = pd.read_csv(f'{state_code}_noun_chunks_labeled.csv')\n",
    "accepted = df[df['stop'].str.lower() != 'y'][['chunk', 'count']].reset_index()\n",
    "filtered = df[df['stop'].str.lower() == 'y'][['chunk', 'count']].reset_index()"
   ]
  },
  {
   "cell_type": "code",
   "execution_count": 16,
   "id": "a8d5c321-78df-43bc-a69b-fc9008d8049f",
   "metadata": {},
   "outputs": [],
   "source": [
    "filtered[['chunk', 'count']].to_csv(f'{state_code}_filtered.csv', index=False)\n",
    "accepted[['chunk', 'count']].to_csv(f'{state_code}_accepted.csv', index=False)"
   ]
  },
  {
   "cell_type": "code",
   "execution_count": null,
   "id": "7e5e5e10-31fa-4801-a29d-553c6f42db09",
   "metadata": {},
   "outputs": [],
   "source": [
    "all_states = ('wi', 'mi', 'mo', 'oh')\n",
    "union = Counter()\n",
    "for state in all_states:\n",
    "  accepted = pd.read_csv(f'{state}_accepted.csv')\n",
    "  for chunk, count in zip(accepted['chunk'], accepted['count']):\n",
    "    union[chunk] += count\n",
    "    \n",
    "union_df = pd.DataFrame(\n",
    "  {'chunk': chunk, 'count': count}\n",
    "  for chunk, count in union.most_common()\n",
    ")\n",
    "union_df.to_csv('_'.join(all_states) + '_union_accepted.csv', index=False)"
   ]
  }
 ],
 "metadata": {
  "kernelspec": {
   "display_name": "Python 3 (ipykernel)",
   "language": "python",
   "name": "python3"
  },
  "language_info": {
   "codemirror_mode": {
    "name": "ipython",
    "version": 3
   },
   "file_extension": ".py",
   "mimetype": "text/x-python",
   "name": "python",
   "nbconvert_exporter": "python",
   "pygments_lexer": "ipython3",
   "version": "3.9.6"
  }
 },
 "nbformat": 4,
 "nbformat_minor": 5
}

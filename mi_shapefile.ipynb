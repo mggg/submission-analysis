{
 "cells": [
  {
   "cell_type": "code",
   "execution_count": 6,
   "id": "38b04455",
   "metadata": {},
   "outputs": [],
   "source": [
    "import os\n",
    "import coi_maps\n",
    "import fetch\n",
    "import geopandas as gpd\n",
    "from tqdm import tqdm"
   ]
  },
  {
   "cell_type": "code",
   "execution_count": 7,
   "id": "46fb836b-e3d2-4bad-97aa-7eef6c8c4505",
   "metadata": {},
   "outputs": [],
   "source": [
    "output_prefix = '../Michigan'"
   ]
  },
  {
   "cell_type": "code",
   "execution_count": 5,
   "id": "1dabbaab",
   "metadata": {},
   "outputs": [],
   "source": [
    "# pull csv down from endpoints\n",
    "ids_url = \"https://kkttgpf0ja.execute-api.us-east-2.amazonaws.com/citygate/submissions/districtr-ids/michigan\"\n",
    "coi_url = \"https://kkttgpf0ja.execute-api.us-east-2.amazonaws.com/citygate/submissions/csv/michigan?type=coi&length=100000\"\n",
    "\n",
    "coi_df = fetch.coi_submissions(ids_url, coi_url)"
   ]
  },
  {
   "cell_type": "code",
   "execution_count": null,
   "id": "c4990433",
   "metadata": {},
   "outputs": [
    {
     "name": "stdout",
     "output_type": "stream",
     "text": [
      "Downloading shapefile for PRECINCTS\n",
      "Projecting into crs 6493\n",
      "15 submissions using precincts\n"
     ]
    }
   ],
   "source": [
    "cois = coi_maps.assignment_to_shape(coi_df)"
   ]
  },
  {
   "cell_type": "code",
   "execution_count": null,
   "id": "b7e6859c",
   "metadata": {},
   "outputs": [],
   "source": [
    "cois.head()"
   ]
  },
  {
   "cell_type": "code",
   "execution_count": null,
   "id": "4e951406",
   "metadata": {},
   "outputs": [],
   "source": [
    "# Number of total communities submitted (>= number of submissions)\n",
    "len(set(cois['id']))"
   ]
  },
  {
   "cell_type": "code",
   "execution_count": null,
   "id": "c28b2ee6",
   "metadata": {},
   "outputs": [],
   "source": [
    "dissolved = cois.dissolve('id')"
   ]
  },
  {
   "cell_type": "code",
   "execution_count": null,
   "id": "91f4ec36",
   "metadata": {},
   "outputs": [],
   "source": [
    "dissolved.boundary.plot()"
   ]
  },
  {
   "cell_type": "code",
   "execution_count": null,
   "id": "79c62c40",
   "metadata": {},
   "outputs": [],
   "source": [
    "dissolved = dissolved.drop('tile_id', axis = 1)\n",
    "outfile = os.path.join(output_prefix, 'mi_cois.shp')\n",
    "dissolved.to_file(outfile)"
   ]
  },
  {
   "cell_type": "code",
   "execution_count": null,
   "id": "19d8d67a",
   "metadata": {},
   "outputs": [],
   "source": [
    "dissolved.head()"
   ]
  },
  {
   "cell_type": "code",
   "execution_count": null,
   "id": "5149d592",
   "metadata": {},
   "outputs": [],
   "source": [
    "len(dissolved)"
   ]
  },
  {
   "cell_type": "code",
   "execution_count": null,
   "id": "b47c8478",
   "metadata": {},
   "outputs": [],
   "source": [
    "# to create one geojson per community\n",
    "geojson_path = os.path.join(output_prefix, 'geojsons')\n",
    "for idx, row in tqdm(dissolved.iterrows(), total=len(dissolved)):\n",
    "    gpd.GeoSeries(row['geometry']).to_file(f\"{geojson_path}/{idx}.geojson\", driver=\"GeoJSON\")"
   ]
  },
  {
   "cell_type": "code",
   "execution_count": null,
   "id": "63c38b33",
   "metadata": {},
   "outputs": [],
   "source": []
  }
 ],
 "metadata": {
  "kernelspec": {
   "display_name": "Python 3",
   "language": "python",
   "name": "python3"
  },
  "language_info": {
   "codemirror_mode": {
    "name": "ipython",
    "version": 3
   },
   "file_extension": ".py",
   "mimetype": "text/x-python",
   "name": "python",
   "nbconvert_exporter": "python",
   "pygments_lexer": "ipython3",
   "version": "3.8.8"
  }
 },
 "nbformat": 4,
 "nbformat_minor": 5
}

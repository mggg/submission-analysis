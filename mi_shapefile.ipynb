{
 "cells": [
  {
   "cell_type": "code",
   "execution_count": null,
   "id": "38b04455",
   "metadata": {},
   "outputs": [],
   "source": [
    "import coi_maps\n",
    "import fetch\n",
    "import geopandas as gpd\n",
    "from tqdm import tqdm"
   ]
  },
  {
   "cell_type": "code",
   "execution_count": null,
   "id": "1dabbaab",
   "metadata": {},
   "outputs": [],
   "source": [
    "# pull csv down from endpoints\n",
    "ids_url = \"https://kkttgpf0ja.execute-api.us-east-2.amazonaws.com/citygate/submissions/districtr-ids/michigan\"\n",
    "coi_url = \"https://kkttgpf0ja.execute-api.us-east-2.amazonaws.com/citygate/submissions/csv/michigan?type=coi&length=100000\"\n",
    "\n",
    "coi_df = fetch.coi_submissions(ids_url, coi_url)"
   ]
  },
  {
   "cell_type": "code",
   "execution_count": null,
   "id": "f58960cf",
   "metadata": {},
   "outputs": [],
   "source": [
    "coi_df.head()"
   ]
  },
  {
   "cell_type": "code",
   "execution_count": null,
   "id": "c4990433",
   "metadata": {},
   "outputs": [],
   "source": [
    "cois = coi_maps.assignment_to_shape(coi_df)"
   ]
  },
  {
   "cell_type": "code",
   "execution_count": null,
   "id": "b7e6859c",
   "metadata": {
    "scrolled": true
   },
   "outputs": [],
   "source": [
    "cois.head()"
   ]
  },
  {
   "cell_type": "code",
   "execution_count": null,
   "id": "4e951406",
   "metadata": {},
   "outputs": [],
   "source": [
    "# Number of total communities submitted (>= number of submissions)\n",
    "len(set(cois['id']))"
   ]
  },
  {
   "cell_type": "code",
   "execution_count": null,
   "id": "c28b2ee6",
   "metadata": {},
   "outputs": [],
   "source": [
    "dissolved = cois.dissolve('id')"
   ]
  },
  {
   "cell_type": "code",
   "execution_count": null,
   "id": "79c62c40",
   "metadata": {
    "scrolled": true
   },
   "outputs": [],
   "source": [
    "dissolved = dissolved.drop('tile_id', axis = 1)\n",
    "dissolved = dissolved.reset_index()"
   ]
  },
  {
   "cell_type": "code",
   "execution_count": null,
   "id": "34eb5e50",
   "metadata": {},
   "outputs": [],
   "source": [
    "# add the columns from the initial API coi_df\n",
    "dissolved = dissolved.merge(coi_df, on='plan_id')\n",
    "# clean up some column names\n",
    "dissolved['id'] = dissolved['id_x']\n",
    "dissolved['submission_id'] = dissolved['id_y']\n",
    "dissolved = dissolved.drop(['id_x','id_y'], axis = 1)\n",
    "# since shapefiles can't have datetime\n",
    "dissolved['datetime'] = dissolved['datetime'].apply(str)\n",
    "\n",
    "# move id (primary key) to front\n",
    "primary_key = dissolved.pop('id')\n",
    "dissolved.insert(0, 'id', primary_key)"
   ]
  },
  {
   "cell_type": "code",
   "execution_count": null,
   "id": "1b7c07cd",
   "metadata": {},
   "outputs": [],
   "source": [
    "# unpack area text for each community\n",
    "# each submission may contain multiple areas, so we want \n",
    "# to put the title and text for each area in the shapefile also\n",
    "def get_area_text(p):\n",
    "    row = dissolved[dissolved['id'] == p].iloc[0]\n",
    "    community = int(p.split('-')[1])\n",
    "    districtr = row['districtr_data']\n",
    "    try:\n",
    "        return districtr['plan']['parts'][community]['description']\n",
    "    except KeyError:\n",
    "        return \"\" # if description is empty\n",
    "\n",
    "def get_area_title(p):\n",
    "    row = dissolved[dissolved['id'] == p].iloc[0]\n",
    "    community = int(p.split('-')[1])\n",
    "    districtr = row['districtr_data']\n",
    "    return districtr['plan']['parts'][community]['name']\n",
    "    \n",
    "dissolved['area_text'] = dissolved['id'].apply(get_area_text)\n",
    "dissolved['area_title'] = dissolved['id'].apply(get_area_title)"
   ]
  },
  {
   "cell_type": "code",
   "execution_count": null,
   "id": "ecc45240",
   "metadata": {},
   "outputs": [],
   "source": [
    "dissolved.head()"
   ]
  },
  {
   "cell_type": "code",
   "execution_count": null,
   "id": "a1fbcc4b",
   "metadata": {},
   "outputs": [],
   "source": [
    "# user will have to change outfile location\n",
    "outfile = \"../Michigan/mi_cois.shp\"\n",
    "dissolved.to_file(outfile)"
   ]
  },
  {
   "cell_type": "code",
   "execution_count": null,
   "id": "5149d592",
   "metadata": {},
   "outputs": [],
   "source": [
    "len(dissolved)"
   ]
  },
  {
   "cell_type": "code",
   "execution_count": null,
   "id": "b47c8478",
   "metadata": {},
   "outputs": [],
   "source": [
    "# to create one geojson per community\n",
    "geojson_path = '../Michigan/geojsons'\n",
    "for idx, row in tqdm(dissolved.iterrows(), total=len(dissolved)):\n",
    "    gpd.GeoSeries(row['geometry']).to_file(f\"{geojson_path}/{row['id']}.geojson\", driver=\"GeoJSON\")"
   ]
  },
  {
   "cell_type": "code",
   "execution_count": null,
   "id": "669e7f03",
   "metadata": {},
   "outputs": [],
   "source": []
  }
 ],
 "metadata": {
  "kernelspec": {
   "display_name": "Python 3",
   "language": "python",
   "name": "python3"
  },
  "language_info": {
   "codemirror_mode": {
    "name": "ipython",
    "version": 3
   },
   "file_extension": ".py",
   "mimetype": "text/x-python",
   "name": "python",
   "nbconvert_exporter": "python",
   "pygments_lexer": "ipython3",
   "version": "3.9.1"
  }
 },
 "nbformat": 4,
 "nbformat_minor": 5
}

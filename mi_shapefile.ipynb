{
 "cells": [
  {
   "cell_type": "code",
   "execution_count": 1,
   "id": "38b04455",
   "metadata": {},
   "outputs": [],
   "source": [
    "import coi_maps\n",
    "import fetch\n",
    "import geopandas as gpd\n",
    "from tqdm import tqdm"
   ]
  },
  {
   "cell_type": "code",
   "execution_count": 4,
   "id": "1dabbaab",
   "metadata": {},
   "outputs": [],
   "source": [
    "# pull csv down from endpoints\n",
    "ids_url = \"https://kkttgpf0ja.execute-api.us-east-2.amazonaws.com/citygate/submissions/districtr-ids/michigan\"\n",
    "coi_url = \"https://kkttgpf0ja.execute-api.us-east-2.amazonaws.com/citygate/submissions/csv/michigan?type=coi&length=100000\"\n",
    "\n",
    "coi_df = fetch.coi_submissions(ids_url, coi_url)"
   ]
  },
  {
   "cell_type": "code",
   "execution_count": 5,
   "id": "c4990433",
   "metadata": {},
   "outputs": [
    {
     "name": "stdout",
     "output_type": "stream",
     "text": [
      "Downloading shapefile for PRECINCTS\n",
      "Projecting into crs 6493\n",
      "13 submissions using precincts\n",
      "Downloading shapefile for BLOCKGROUPS\n",
      "331 submissions using blockgroups\n",
      "Empty plan...\n",
      "Empty plan...\n",
      "Empty plan...\n",
      "Empty plan...\n",
      "Empty plan...\n",
      "Empty plan...\n",
      "Empty plan...\n",
      "Empty plan...\n",
      "Empty plan...\n",
      "Empty plan...\n",
      "Empty plan...\n",
      "Empty plan...\n",
      "Empty plan...\n",
      "Empty plan...\n",
      "Empty plan...\n",
      "Empty plan...\n",
      "Empty plan...\n"
     ]
    }
   ],
   "source": [
    "cois = coi_maps.assignment_to_shape(coi_df)"
   ]
  },
  {
   "cell_type": "code",
   "execution_count": 6,
   "id": "b7e6859c",
   "metadata": {},
   "outputs": [
    {
     "data": {
      "text/html": [
       "<div>\n",
       "<style scoped>\n",
       "    .dataframe tbody tr th:only-of-type {\n",
       "        vertical-align: middle;\n",
       "    }\n",
       "\n",
       "    .dataframe tbody tr th {\n",
       "        vertical-align: top;\n",
       "    }\n",
       "\n",
       "    .dataframe thead th {\n",
       "        text-align: right;\n",
       "    }\n",
       "</style>\n",
       "<table border=\"1\" class=\"dataframe\">\n",
       "  <thead>\n",
       "    <tr style=\"text-align: right;\">\n",
       "      <th></th>\n",
       "      <th>id</th>\n",
       "      <th>plan_id</th>\n",
       "      <th>coi_id</th>\n",
       "      <th>tile_id</th>\n",
       "      <th>geometry</th>\n",
       "    </tr>\n",
       "  </thead>\n",
       "  <tbody>\n",
       "    <tr>\n",
       "      <th>0</th>\n",
       "      <td>17892-0</td>\n",
       "      <td>17892</td>\n",
       "      <td>0</td>\n",
       "      <td>P0813400002027</td>\n",
       "      <td>POLYGON ((5895841.467 -36103.185, 5895923.122 ...</td>\n",
       "    </tr>\n",
       "    <tr>\n",
       "      <th>1</th>\n",
       "      <td>17892-0</td>\n",
       "      <td>17892</td>\n",
       "      <td>0</td>\n",
       "      <td>P0813400002026</td>\n",
       "      <td>POLYGON ((5896114.833 -35746.544, 5896024.046 ...</td>\n",
       "    </tr>\n",
       "    <tr>\n",
       "      <th>2</th>\n",
       "      <td>17892-0</td>\n",
       "      <td>17892</td>\n",
       "      <td>0</td>\n",
       "      <td>P0813400002032</td>\n",
       "      <td>POLYGON ((5895497.987 -37304.043, 5895423.789 ...</td>\n",
       "    </tr>\n",
       "    <tr>\n",
       "      <th>3</th>\n",
       "      <td>17892-0</td>\n",
       "      <td>17892</td>\n",
       "      <td>0</td>\n",
       "      <td>P0813400002038</td>\n",
       "      <td>POLYGON ((5893506.774 -36038.459, 5893592.942 ...</td>\n",
       "    </tr>\n",
       "    <tr>\n",
       "      <th>4</th>\n",
       "      <td>17892-0</td>\n",
       "      <td>17892</td>\n",
       "      <td>0</td>\n",
       "      <td>P0813400002029</td>\n",
       "      <td>POLYGON ((5894699.274 -36390.135, 5894698.732 ...</td>\n",
       "    </tr>\n",
       "  </tbody>\n",
       "</table>\n",
       "</div>"
      ],
      "text/plain": [
       "        id plan_id coi_id         tile_id  \\\n",
       "0  17892-0   17892      0  P0813400002027   \n",
       "1  17892-0   17892      0  P0813400002026   \n",
       "2  17892-0   17892      0  P0813400002032   \n",
       "3  17892-0   17892      0  P0813400002038   \n",
       "4  17892-0   17892      0  P0813400002029   \n",
       "\n",
       "                                            geometry  \n",
       "0  POLYGON ((5895841.467 -36103.185, 5895923.122 ...  \n",
       "1  POLYGON ((5896114.833 -35746.544, 5896024.046 ...  \n",
       "2  POLYGON ((5895497.987 -37304.043, 5895423.789 ...  \n",
       "3  POLYGON ((5893506.774 -36038.459, 5893592.942 ...  \n",
       "4  POLYGON ((5894699.274 -36390.135, 5894698.732 ...  "
      ]
     },
     "execution_count": 6,
     "metadata": {},
     "output_type": "execute_result"
    }
   ],
   "source": [
    "cois.head()"
   ]
  },
  {
   "cell_type": "code",
   "execution_count": 7,
   "id": "4e951406",
   "metadata": {},
   "outputs": [
    {
     "data": {
      "text/plain": [
       "409"
      ]
     },
     "execution_count": 7,
     "metadata": {},
     "output_type": "execute_result"
    }
   ],
   "source": [
    "# Number of total communities submitted (>= number of submissions)\n",
    "len(set(cois['id']))"
   ]
  },
  {
   "cell_type": "code",
   "execution_count": 8,
   "id": "c28b2ee6",
   "metadata": {},
   "outputs": [],
   "source": [
    "dissolved = cois.dissolve('id')"
   ]
  },
  {
   "cell_type": "code",
   "execution_count": 9,
   "id": "79c62c40",
   "metadata": {},
   "outputs": [],
   "source": [
    "dissolved = dissolved.drop('tile_id', axis = 1)\n",
    "outfile = \"../Michigan/mi_cois.shp\"\n",
    "dissolved.to_file(outfile)"
   ]
  },
  {
   "cell_type": "code",
   "execution_count": 10,
   "id": "19d8d67a",
   "metadata": {},
   "outputs": [
    {
     "data": {
      "text/html": [
       "<div>\n",
       "<style scoped>\n",
       "    .dataframe tbody tr th:only-of-type {\n",
       "        vertical-align: middle;\n",
       "    }\n",
       "\n",
       "    .dataframe tbody tr th {\n",
       "        vertical-align: top;\n",
       "    }\n",
       "\n",
       "    .dataframe thead th {\n",
       "        text-align: right;\n",
       "    }\n",
       "</style>\n",
       "<table border=\"1\" class=\"dataframe\">\n",
       "  <thead>\n",
       "    <tr style=\"text-align: right;\">\n",
       "      <th></th>\n",
       "      <th>geometry</th>\n",
       "      <th>plan_id</th>\n",
       "      <th>coi_id</th>\n",
       "    </tr>\n",
       "    <tr>\n",
       "      <th>id</th>\n",
       "      <th></th>\n",
       "      <th></th>\n",
       "      <th></th>\n",
       "    </tr>\n",
       "  </thead>\n",
       "  <tbody>\n",
       "    <tr>\n",
       "      <th>17124-0</th>\n",
       "      <td>POLYGON ((6092159.513 -112292.300, 6092146.447...</td>\n",
       "      <td>17124</td>\n",
       "      <td>0</td>\n",
       "    </tr>\n",
       "    <tr>\n",
       "      <th>17128-0</th>\n",
       "      <td>POLYGON ((6093648.302 -111116.866, 6093662.632...</td>\n",
       "      <td>17128</td>\n",
       "      <td>0</td>\n",
       "    </tr>\n",
       "    <tr>\n",
       "      <th>17892-0</th>\n",
       "      <td>POLYGON ((5903403.856 -43996.435, 5903406.823 ...</td>\n",
       "      <td>17892</td>\n",
       "      <td>0</td>\n",
       "    </tr>\n",
       "    <tr>\n",
       "      <th>17892-1</th>\n",
       "      <td>MULTIPOLYGON (((5893376.882 -60112.985, 589328...</td>\n",
       "      <td>17892</td>\n",
       "      <td>1</td>\n",
       "    </tr>\n",
       "    <tr>\n",
       "      <th>18093-0</th>\n",
       "      <td>POLYGON ((5893709.220 -53662.998, 5893694.745 ...</td>\n",
       "      <td>18093</td>\n",
       "      <td>0</td>\n",
       "    </tr>\n",
       "  </tbody>\n",
       "</table>\n",
       "</div>"
      ],
      "text/plain": [
       "                                                  geometry plan_id  coi_id\n",
       "id                                                                        \n",
       "17124-0  POLYGON ((6092159.513 -112292.300, 6092146.447...   17124       0\n",
       "17128-0  POLYGON ((6093648.302 -111116.866, 6093662.632...   17128       0\n",
       "17892-0  POLYGON ((5903403.856 -43996.435, 5903406.823 ...   17892       0\n",
       "17892-1  MULTIPOLYGON (((5893376.882 -60112.985, 589328...   17892       1\n",
       "18093-0  POLYGON ((5893709.220 -53662.998, 5893694.745 ...   18093       0"
      ]
     },
     "execution_count": 10,
     "metadata": {},
     "output_type": "execute_result"
    }
   ],
   "source": [
    "dissolved.head()"
   ]
  },
  {
   "cell_type": "code",
   "execution_count": 11,
   "id": "5149d592",
   "metadata": {},
   "outputs": [
    {
     "data": {
      "text/plain": [
       "409"
      ]
     },
     "execution_count": 11,
     "metadata": {},
     "output_type": "execute_result"
    }
   ],
   "source": [
    "len(dissolved)"
   ]
  },
  {
   "cell_type": "code",
   "execution_count": 12,
   "id": "b47c8478",
   "metadata": {},
   "outputs": [
    {
     "name": "stderr",
     "output_type": "stream",
     "text": [
      "100%|██████████| 409/409 [00:10<00:00, 40.28it/s]\n"
     ]
    }
   ],
   "source": [
    "# to create one geojson per community\n",
    "geojson_path = '../Michigan/geojsons'\n",
    "for idx, row in tqdm(dissolved.iterrows(), total=len(dissolved)):\n",
    "    gpd.GeoSeries(row['geometry']).to_file(f\"{geojson_path}/{idx}.geojson\", driver=\"GeoJSON\")"
   ]
  },
  {
   "cell_type": "code",
   "execution_count": null,
   "id": "63c38b33",
   "metadata": {},
   "outputs": [],
   "source": []
  }
 ],
 "metadata": {
  "kernelspec": {
   "display_name": "Python 3",
   "language": "python",
   "name": "python3"
  },
  "language_info": {
   "codemirror_mode": {
    "name": "ipython",
    "version": 3
   },
   "file_extension": ".py",
   "mimetype": "text/x-python",
   "name": "python",
   "nbconvert_exporter": "python",
   "pygments_lexer": "ipython3",
   "version": "3.9.1"
  }
 },
 "nbformat": 4,
 "nbformat_minor": 5
}
